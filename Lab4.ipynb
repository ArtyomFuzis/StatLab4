{
 "cells": [
  {
   "metadata": {},
   "cell_type": "markdown",
   "source": [
    "## МатСтатЛаба* №4\n",
    "\\* Лабосодержащий продукт, не содержит некачественных мемов"
   ],
   "id": "2b241dacd3415990"
  },
  {
   "cell_type": "code",
   "id": "initial_id",
   "metadata": {
    "collapsed": true,
    "ExecuteTime": {
     "end_time": "2025-05-25T18:52:03.761294Z",
     "start_time": "2025-05-25T18:52:01.898579Z"
    }
   },
   "source": [
    "import pandas as pd\n",
    "import numpy as np\n",
    "import statsmodels.api as sm\n",
    "from scipy import stats\n",
    "import warnings\n",
    "warnings.filterwarnings('ignore')\n",
    "from IPython.display import Image, display"
   ],
   "outputs": [],
   "execution_count": 3
  },
  {
   "metadata": {},
   "cell_type": "markdown",
   "source": "![](https://github.com/ArtyomFuzis/CompMathLab4/blob/master/imgs/anime/enter/7eb1b6dd4c0d264d24bd1ee973b42320.jpg?raw=true)",
   "id": "189234245d3c82b8"
  },
  {
   "metadata": {},
   "cell_type": "markdown",
   "source": "## Задание 1\n",
   "id": "81c4a551914d4464"
  },
  {
   "metadata": {
    "ExecuteTime": {
     "end_time": "2025-05-25T18:52:07.887774Z",
     "start_time": "2025-05-25T18:52:03.800460Z"
    }
   },
   "cell_type": "code",
   "source": [
    "url='https://drive.google.com/file/d/1cx0pshptDSVmaWLJCBGS9jIIJ2g-VRgT/view'\n",
    "url='https://drive.google.com/uc?id=' + url.split('/')[-2]\n",
    "df = pd.read_csv(url)\n",
    "\n",
    "df.head()"
   ],
   "id": "98e05b3739e16620",
   "outputs": [
    {
     "data": {
      "text/plain": [
       "           id             date     price  bedrooms  bathrooms  sqft_living  \\\n",
       "0  7129300520  20141013T000000  221900.0         3       1.00         1180   \n",
       "1  6414100192  20141209T000000  538000.0         3       2.25         2570   \n",
       "2  5631500400  20150225T000000  180000.0         2       1.00          770   \n",
       "3  2487200875  20141209T000000  604000.0         4       3.00         1960   \n",
       "4  1954400510  20150218T000000  510000.0         3       2.00         1680   \n",
       "\n",
       "   sqft_lot  floors  waterfront  view  ...  grade  sqft_above  sqft_basement  \\\n",
       "0      5650     1.0           0     0  ...      7        1180              0   \n",
       "1      7242     2.0           0     0  ...      7        2170            400   \n",
       "2     10000     1.0           0     0  ...      6         770              0   \n",
       "3      5000     1.0           0     0  ...      7        1050            910   \n",
       "4      8080     1.0           0     0  ...      8        1680              0   \n",
       "\n",
       "   yr_built  yr_renovated  zipcode      lat     long  sqft_living15  \\\n",
       "0      1955             0    98178  47.5112 -122.257           1340   \n",
       "1      1951          1991    98125  47.7210 -122.319           1690   \n",
       "2      1933             0    98028  47.7379 -122.233           2720   \n",
       "3      1965             0    98136  47.5208 -122.393           1360   \n",
       "4      1987             0    98074  47.6168 -122.045           1800   \n",
       "\n",
       "   sqft_lot15  \n",
       "0        5650  \n",
       "1        7639  \n",
       "2        8062  \n",
       "3        5000  \n",
       "4        7503  \n",
       "\n",
       "[5 rows x 21 columns]"
      ],
      "text/html": [
       "<div>\n",
       "<style scoped>\n",
       "    .dataframe tbody tr th:only-of-type {\n",
       "        vertical-align: middle;\n",
       "    }\n",
       "\n",
       "    .dataframe tbody tr th {\n",
       "        vertical-align: top;\n",
       "    }\n",
       "\n",
       "    .dataframe thead th {\n",
       "        text-align: right;\n",
       "    }\n",
       "</style>\n",
       "<table border=\"1\" class=\"dataframe\">\n",
       "  <thead>\n",
       "    <tr style=\"text-align: right;\">\n",
       "      <th></th>\n",
       "      <th>id</th>\n",
       "      <th>date</th>\n",
       "      <th>price</th>\n",
       "      <th>bedrooms</th>\n",
       "      <th>bathrooms</th>\n",
       "      <th>sqft_living</th>\n",
       "      <th>sqft_lot</th>\n",
       "      <th>floors</th>\n",
       "      <th>waterfront</th>\n",
       "      <th>view</th>\n",
       "      <th>...</th>\n",
       "      <th>grade</th>\n",
       "      <th>sqft_above</th>\n",
       "      <th>sqft_basement</th>\n",
       "      <th>yr_built</th>\n",
       "      <th>yr_renovated</th>\n",
       "      <th>zipcode</th>\n",
       "      <th>lat</th>\n",
       "      <th>long</th>\n",
       "      <th>sqft_living15</th>\n",
       "      <th>sqft_lot15</th>\n",
       "    </tr>\n",
       "  </thead>\n",
       "  <tbody>\n",
       "    <tr>\n",
       "      <th>0</th>\n",
       "      <td>7129300520</td>\n",
       "      <td>20141013T000000</td>\n",
       "      <td>221900.0</td>\n",
       "      <td>3</td>\n",
       "      <td>1.00</td>\n",
       "      <td>1180</td>\n",
       "      <td>5650</td>\n",
       "      <td>1.0</td>\n",
       "      <td>0</td>\n",
       "      <td>0</td>\n",
       "      <td>...</td>\n",
       "      <td>7</td>\n",
       "      <td>1180</td>\n",
       "      <td>0</td>\n",
       "      <td>1955</td>\n",
       "      <td>0</td>\n",
       "      <td>98178</td>\n",
       "      <td>47.5112</td>\n",
       "      <td>-122.257</td>\n",
       "      <td>1340</td>\n",
       "      <td>5650</td>\n",
       "    </tr>\n",
       "    <tr>\n",
       "      <th>1</th>\n",
       "      <td>6414100192</td>\n",
       "      <td>20141209T000000</td>\n",
       "      <td>538000.0</td>\n",
       "      <td>3</td>\n",
       "      <td>2.25</td>\n",
       "      <td>2570</td>\n",
       "      <td>7242</td>\n",
       "      <td>2.0</td>\n",
       "      <td>0</td>\n",
       "      <td>0</td>\n",
       "      <td>...</td>\n",
       "      <td>7</td>\n",
       "      <td>2170</td>\n",
       "      <td>400</td>\n",
       "      <td>1951</td>\n",
       "      <td>1991</td>\n",
       "      <td>98125</td>\n",
       "      <td>47.7210</td>\n",
       "      <td>-122.319</td>\n",
       "      <td>1690</td>\n",
       "      <td>7639</td>\n",
       "    </tr>\n",
       "    <tr>\n",
       "      <th>2</th>\n",
       "      <td>5631500400</td>\n",
       "      <td>20150225T000000</td>\n",
       "      <td>180000.0</td>\n",
       "      <td>2</td>\n",
       "      <td>1.00</td>\n",
       "      <td>770</td>\n",
       "      <td>10000</td>\n",
       "      <td>1.0</td>\n",
       "      <td>0</td>\n",
       "      <td>0</td>\n",
       "      <td>...</td>\n",
       "      <td>6</td>\n",
       "      <td>770</td>\n",
       "      <td>0</td>\n",
       "      <td>1933</td>\n",
       "      <td>0</td>\n",
       "      <td>98028</td>\n",
       "      <td>47.7379</td>\n",
       "      <td>-122.233</td>\n",
       "      <td>2720</td>\n",
       "      <td>8062</td>\n",
       "    </tr>\n",
       "    <tr>\n",
       "      <th>3</th>\n",
       "      <td>2487200875</td>\n",
       "      <td>20141209T000000</td>\n",
       "      <td>604000.0</td>\n",
       "      <td>4</td>\n",
       "      <td>3.00</td>\n",
       "      <td>1960</td>\n",
       "      <td>5000</td>\n",
       "      <td>1.0</td>\n",
       "      <td>0</td>\n",
       "      <td>0</td>\n",
       "      <td>...</td>\n",
       "      <td>7</td>\n",
       "      <td>1050</td>\n",
       "      <td>910</td>\n",
       "      <td>1965</td>\n",
       "      <td>0</td>\n",
       "      <td>98136</td>\n",
       "      <td>47.5208</td>\n",
       "      <td>-122.393</td>\n",
       "      <td>1360</td>\n",
       "      <td>5000</td>\n",
       "    </tr>\n",
       "    <tr>\n",
       "      <th>4</th>\n",
       "      <td>1954400510</td>\n",
       "      <td>20150218T000000</td>\n",
       "      <td>510000.0</td>\n",
       "      <td>3</td>\n",
       "      <td>2.00</td>\n",
       "      <td>1680</td>\n",
       "      <td>8080</td>\n",
       "      <td>1.0</td>\n",
       "      <td>0</td>\n",
       "      <td>0</td>\n",
       "      <td>...</td>\n",
       "      <td>8</td>\n",
       "      <td>1680</td>\n",
       "      <td>0</td>\n",
       "      <td>1987</td>\n",
       "      <td>0</td>\n",
       "      <td>98074</td>\n",
       "      <td>47.6168</td>\n",
       "      <td>-122.045</td>\n",
       "      <td>1800</td>\n",
       "      <td>7503</td>\n",
       "    </tr>\n",
       "  </tbody>\n",
       "</table>\n",
       "<p>5 rows × 21 columns</p>\n",
       "</div>"
      ]
     },
     "execution_count": 4,
     "metadata": {},
     "output_type": "execute_result"
    }
   ],
   "execution_count": 4
  },
  {
   "metadata": {},
   "cell_type": "markdown",
   "source": "![](https://github.com/ArtyomFuzis/CompMathLab4/blob/master/imgs/anime/enter/photo_2025-04-22_00-23-35.jpg?raw=true)",
   "id": "bcddfd3a4136e44e"
  },
  {
   "metadata": {},
   "cell_type": "markdown",
   "source": [
    "### Цель задания\n",
    "\n",
    "- Построить линейную модель.\n",
    "  - Зависимая переменная – цена на недвижимость (`price`)\n",
    "  - Независимые переменные:\n",
    "    - `sqft_living` – жилая площадь\n",
    "    - `sqft_lot` – площадь участка\n",
    "    - `sqft_above` – площадь над уровнем земли\n",
    "- Вычислить оценки коэффициентов и остаточной дисперсии.\n",
    "- Построить доверительные интервалы для коэффициентов.\n",
    "- Вычислить коэффициент детерминации $R^2$.\n",
    "- Проверить гипотезы:\n",
    "  - Чем больше жилая площадь, тем выше цена.\n",
    "  - Цена зависит от `sqft_lot`.\n",
    "  - Гипотеза $H_0$: коэффициенты при `sqft_living` и `sqft_above` равны нулю одновременно против $H_1$ = не $H_0$.\n",
    "- Проверить остатки на нормальность\n",
    "\n",
    "### Построим линейную модель"
   ],
   "id": "67a5bb3f4e8f79f2"
  },
  {
   "metadata": {
    "ExecuteTime": {
     "end_time": "2025-05-25T18:52:08.089213Z",
     "start_time": "2025-05-25T18:52:07.951467Z"
    }
   },
   "cell_type": "code",
   "source": [
    "X = df[['sqft_living', 'sqft_lot', 'sqft_above']]\n",
    "X = sm.add_constant(X)  # Добавляем свободный коэффициент\n",
    "y = df['price']\n",
    "\n",
    "model = sm.OLS(y, X).fit()\n",
    "model.summary()"
   ],
   "id": "2a50eebcc26bd449",
   "outputs": [
    {
     "data": {
      "text/plain": [
       "<class 'statsmodels.iolib.summary.Summary'>\n",
       "\"\"\"\n",
       "                            OLS Regression Results                            \n",
       "==============================================================================\n",
       "Dep. Variable:                  price   R-squared:                       0.494\n",
       "Model:                            OLS   Adj. R-squared:                  0.494\n",
       "Method:                 Least Squares   F-statistic:                     7038.\n",
       "Date:                Sun, 25 May 2025   Prob (F-statistic):               0.00\n",
       "Time:                        21:52:07   Log-Likelihood:            -3.0024e+05\n",
       "No. Observations:               21613   AIC:                         6.005e+05\n",
       "Df Residuals:                   21609   BIC:                         6.005e+05\n",
       "Df Model:                           3                                         \n",
       "Covariance Type:            nonrobust                                         \n",
       "===============================================================================\n",
       "                  coef    std err          t      P>|t|      [0.025      0.975]\n",
       "-------------------------------------------------------------------------------\n",
       "const       -4.145e+04   4444.824     -9.324      0.000   -5.02e+04   -3.27e+04\n",
       "sqft_living   296.1516      4.020     73.671      0.000     288.272     304.031\n",
       "sqft_lot       -0.2782      0.044     -6.375      0.000      -0.364      -0.193\n",
       "sqft_above    -16.9034      4.467     -3.784      0.000     -25.660      -8.147\n",
       "==============================================================================\n",
       "Omnibus:                    14736.339   Durbin-Watson:                   1.982\n",
       "Prob(Omnibus):                  0.000   Jarque-Bera (JB):           535921.427\n",
       "Skew:                           2.800   Prob(JB):                         0.00\n",
       "Kurtosis:                      26.743   Cond. No.                     1.10e+05\n",
       "==============================================================================\n",
       "\n",
       "Notes:\n",
       "[1] Standard Errors assume that the covariance matrix of the errors is correctly specified.\n",
       "[2] The condition number is large, 1.1e+05. This might indicate that there are\n",
       "strong multicollinearity or other numerical problems.\n",
       "\"\"\""
      ],
      "text/html": [
       "<table class=\"simpletable\">\n",
       "<caption>OLS Regression Results</caption>\n",
       "<tr>\n",
       "  <th>Dep. Variable:</th>          <td>price</td>      <th>  R-squared:         </th>  <td>   0.494</td>  \n",
       "</tr>\n",
       "<tr>\n",
       "  <th>Model:</th>                   <td>OLS</td>       <th>  Adj. R-squared:    </th>  <td>   0.494</td>  \n",
       "</tr>\n",
       "<tr>\n",
       "  <th>Method:</th>             <td>Least Squares</td>  <th>  F-statistic:       </th>  <td>   7038.</td>  \n",
       "</tr>\n",
       "<tr>\n",
       "  <th>Date:</th>             <td>Sun, 25 May 2025</td> <th>  Prob (F-statistic):</th>   <td>  0.00</td>   \n",
       "</tr>\n",
       "<tr>\n",
       "  <th>Time:</th>                 <td>21:52:07</td>     <th>  Log-Likelihood:    </th> <td>-3.0024e+05</td>\n",
       "</tr>\n",
       "<tr>\n",
       "  <th>No. Observations:</th>      <td> 21613</td>      <th>  AIC:               </th>  <td>6.005e+05</td> \n",
       "</tr>\n",
       "<tr>\n",
       "  <th>Df Residuals:</th>          <td> 21609</td>      <th>  BIC:               </th>  <td>6.005e+05</td> \n",
       "</tr>\n",
       "<tr>\n",
       "  <th>Df Model:</th>              <td>     3</td>      <th>                     </th>      <td> </td>     \n",
       "</tr>\n",
       "<tr>\n",
       "  <th>Covariance Type:</th>      <td>nonrobust</td>    <th>                     </th>      <td> </td>     \n",
       "</tr>\n",
       "</table>\n",
       "<table class=\"simpletable\">\n",
       "<tr>\n",
       "       <td></td>          <th>coef</th>     <th>std err</th>      <th>t</th>      <th>P>|t|</th>  <th>[0.025</th>    <th>0.975]</th>  \n",
       "</tr>\n",
       "<tr>\n",
       "  <th>const</th>       <td>-4.145e+04</td> <td> 4444.824</td> <td>   -9.324</td> <td> 0.000</td> <td>-5.02e+04</td> <td>-3.27e+04</td>\n",
       "</tr>\n",
       "<tr>\n",
       "  <th>sqft_living</th> <td>  296.1516</td> <td>    4.020</td> <td>   73.671</td> <td> 0.000</td> <td>  288.272</td> <td>  304.031</td>\n",
       "</tr>\n",
       "<tr>\n",
       "  <th>sqft_lot</th>    <td>   -0.2782</td> <td>    0.044</td> <td>   -6.375</td> <td> 0.000</td> <td>   -0.364</td> <td>   -0.193</td>\n",
       "</tr>\n",
       "<tr>\n",
       "  <th>sqft_above</th>  <td>  -16.9034</td> <td>    4.467</td> <td>   -3.784</td> <td> 0.000</td> <td>  -25.660</td> <td>   -8.147</td>\n",
       "</tr>\n",
       "</table>\n",
       "<table class=\"simpletable\">\n",
       "<tr>\n",
       "  <th>Omnibus:</th>       <td>14736.339</td> <th>  Durbin-Watson:     </th>  <td>   1.982</td> \n",
       "</tr>\n",
       "<tr>\n",
       "  <th>Prob(Omnibus):</th>  <td> 0.000</td>   <th>  Jarque-Bera (JB):  </th> <td>535921.427</td>\n",
       "</tr>\n",
       "<tr>\n",
       "  <th>Skew:</th>           <td> 2.800</td>   <th>  Prob(JB):          </th>  <td>    0.00</td> \n",
       "</tr>\n",
       "<tr>\n",
       "  <th>Kurtosis:</th>       <td>26.743</td>   <th>  Cond. No.          </th>  <td>1.10e+05</td> \n",
       "</tr>\n",
       "</table><br/><br/>Notes:<br/>[1] Standard Errors assume that the covariance matrix of the errors is correctly specified.<br/>[2] The condition number is large, 1.1e+05. This might indicate that there are<br/>strong multicollinearity or other numerical problems."
      ],
      "text/latex": "\\begin{center}\n\\begin{tabular}{lclc}\n\\toprule\n\\textbf{Dep. Variable:}    &      price       & \\textbf{  R-squared:         } &      0.494   \\\\\n\\textbf{Model:}            &       OLS        & \\textbf{  Adj. R-squared:    } &      0.494   \\\\\n\\textbf{Method:}           &  Least Squares   & \\textbf{  F-statistic:       } &      7038.   \\\\\n\\textbf{Date:}             & Sun, 25 May 2025 & \\textbf{  Prob (F-statistic):} &      0.00    \\\\\n\\textbf{Time:}             &     21:52:07     & \\textbf{  Log-Likelihood:    } & -3.0024e+05  \\\\\n\\textbf{No. Observations:} &       21613      & \\textbf{  AIC:               } &  6.005e+05   \\\\\n\\textbf{Df Residuals:}     &       21609      & \\textbf{  BIC:               } &  6.005e+05   \\\\\n\\textbf{Df Model:}         &           3      & \\textbf{                     } &              \\\\\n\\textbf{Covariance Type:}  &    nonrobust     & \\textbf{                     } &              \\\\\n\\bottomrule\n\\end{tabular}\n\\begin{tabular}{lcccccc}\n                      & \\textbf{coef} & \\textbf{std err} & \\textbf{t} & \\textbf{P$> |$t$|$} & \\textbf{[0.025} & \\textbf{0.975]}  \\\\\n\\midrule\n\\textbf{const}        &   -4.145e+04  &     4444.824     &    -9.324  &         0.000        &    -5.02e+04    &    -3.27e+04     \\\\\n\\textbf{sqft\\_living} &     296.1516  &        4.020     &    73.671  &         0.000        &      288.272    &      304.031     \\\\\n\\textbf{sqft\\_lot}    &      -0.2782  &        0.044     &    -6.375  &         0.000        &       -0.364    &       -0.193     \\\\\n\\textbf{sqft\\_above}  &     -16.9034  &        4.467     &    -3.784  &         0.000        &      -25.660    &       -8.147     \\\\\n\\bottomrule\n\\end{tabular}\n\\begin{tabular}{lclc}\n\\textbf{Omnibus:}       & 14736.339 & \\textbf{  Durbin-Watson:     } &     1.982   \\\\\n\\textbf{Prob(Omnibus):} &    0.000  & \\textbf{  Jarque-Bera (JB):  } & 535921.427  \\\\\n\\textbf{Skew:}          &    2.800  & \\textbf{  Prob(JB):          } &      0.00   \\\\\n\\textbf{Kurtosis:}      &   26.743  & \\textbf{  Cond. No.          } &  1.10e+05   \\\\\n\\bottomrule\n\\end{tabular}\n%\\caption{OLS Regression Results}\n\\end{center}\n\nNotes: \\newline\n [1] Standard Errors assume that the covariance matrix of the errors is correctly specified. \\newline\n [2] The condition number is large, 1.1e+05. This might indicate that there are \\newline\n strong multicollinearity or other numerical problems."
     },
     "execution_count": 5,
     "metadata": {},
     "output_type": "execute_result"
    }
   ],
   "execution_count": 5
  },
  {
   "metadata": {},
   "cell_type": "markdown",
   "source": "![](https://github.com/ArtyomFuzis/CompMathLab4/blob/master/imgs/soviet/enter/1.jpg?raw=true)",
   "id": "4d02ce4aa195d2ee"
  },
  {
   "metadata": {},
   "cell_type": "markdown",
   "source": [
    "### Проверим гипотезу №1\n",
    "Чем больше жилая площадь, тем меньше цена\n",
    "\n",
    "- $H_0$ : Жилая площадь влияет на цену прямопропорционально $\\Rightarrow \\beta_1 > 0$\n",
    "- $H_1$ : Жилая площадь не влияет на цену"
   ],
   "id": "4dab0385d0aa4366"
  },
  {
   "metadata": {
    "ExecuteTime": {
     "end_time": "2025-05-25T18:52:08.149701Z",
     "start_time": "2025-05-25T18:52:08.141930Z"
    }
   },
   "cell_type": "code",
   "source": [
    "t_stat1 = model.tvalues['sqft_living']\n",
    "p_val1 = model.pvalues['sqft_living'] / 2\n",
    "print(f\"t-статистика: {t_stat1:.3f}\")\n",
    "print(f\"P-значение (одностороннее): {p_val1:.5f}\")\n",
    "if p_val1 < 0.05 and model.params['sqft_living'] > 0:\n",
    "    print(\"Вывод: Гипотеза H0 не отвергается, жилая площадь влияет на цену\")\n",
    "else:\n",
    "    print(\"Вывод: Гипотеза H0 отвергается, жилая площадь не влияет на цену\")"
   ],
   "id": "c085993110b0edd8",
   "outputs": [
    {
     "name": "stdout",
     "output_type": "stream",
     "text": [
      "t-статистика: 73.671\n",
      "P-значение (одностороннее): 0.00000\n",
      "Вывод: Гипотеза H0 не отвергается, жилая площадь влияет на цену\n"
     ]
    }
   ],
   "execution_count": 6
  },
  {
   "metadata": {},
   "cell_type": "markdown",
   "source": [
    "## Рубрика <span style=\"color: crimson;\">АААНЕКДОТЫ</span>\n",
    "![](memes/кровь.jpg) \\\n",
    "![](memes/бабушки.jpg) \\\n",
    "![](memes/a1.png) \\\n",
    "![](memes/a2.png) \\\n"
   ],
   "id": "cc6c290d4cb49b92"
  },
  {
   "metadata": {},
   "cell_type": "markdown",
   "source": [
    "### Проверим гипотезу №2\n",
    "Цена зависит от \"sqft_lot\"\n",
    "\n",
    "- $H_0$: Площадь участка влияет на цену $\\Rightarrow \\beta_2 \\ne 0$\n",
    "- $H_1$: Площадь участка не влияет на цену"
   ],
   "id": "f8f848e9476b190"
  },
  {
   "metadata": {
    "ExecuteTime": {
     "end_time": "2025-05-25T18:52:08.287029Z",
     "start_time": "2025-05-25T18:52:08.278275Z"
    }
   },
   "cell_type": "code",
   "source": [
    "t_stat2 = model.tvalues['sqft_lot']\n",
    "p_val2 = model.pvalues['sqft_lot']\n",
    "print(f\"t-статистика: {t_stat2:.3f}\")\n",
    "print(f\"P-значение: {p_val2:.5f}\")\n",
    "if p_val2 < 0.05:\n",
    "    print(\"Вывод: Гипотеза H0 не отвергается, площадь участка влияет на цену\")\n",
    "else:\n",
    "    print(\"Вывод: Гипотеза H0 отвергается, площадь участка не влияет на цену\")"
   ],
   "id": "41d9a664a8c09219",
   "outputs": [
    {
     "name": "stdout",
     "output_type": "stream",
     "text": [
      "t-статистика: -6.375\n",
      "P-значение: 0.00000\n",
      "Вывод: Гипотеза H0 не отвергается, площадь участка влияет на цену\n"
     ]
    }
   ],
   "execution_count": 7
  },
  {
   "metadata": {},
   "cell_type": "markdown",
   "source": "![](./memes/1.jpg)",
   "id": "3edbab07336f81b4"
  },
  {
   "metadata": {},
   "cell_type": "markdown",
   "source": [
    "### Проверим гипотезу №3\n",
    "Коэффициенты при \"жилой\" площади и \"sqft_above\" одновременно равны 0\n",
    "- $H_0$: $\\beta_1 = 0$ и $\\beta_3 = 0$\n",
    "\n",
    "- $H_1$: $\\beta_1 \\ne 0$ или $\\beta_3 \\ne 0$"
   ],
   "id": "dec425b3cf8be367"
  },
  {
   "metadata": {
    "ExecuteTime": {
     "end_time": "2025-05-25T18:52:08.347011Z",
     "start_time": "2025-05-25T18:52:08.338625Z"
    }
   },
   "cell_type": "code",
   "source": [
    "hypothesis = '(sqft_living = 0), (sqft_above = 0)'\n",
    "f_test = model.f_test(hypothesis)\n",
    "f_stat = f_test.fvalue\n",
    "print(f\"F-статистика: {f_stat:.2f}\")\n",
    "print(f\"P-значение: {f_test.pvalue:.5f}\")\n",
    "\n",
    "if f_test.pvalue < 0.05:\n",
    "    print(\"Вывод: Гипотеза H0 отвергается - хотя бы один коэффициент значим\")\n",
    "else:\n",
    "    print(\"Вывод: Гипотеза H0 не отвергается\")"
   ],
   "id": "1d9212dc31ff3125",
   "outputs": [
    {
     "name": "stdout",
     "output_type": "stream",
     "text": [
      "F-статистика: 10385.91\n",
      "P-значение: 0.00000\n",
      "Вывод: Гипотеза H0 отвергается - хотя бы один коэффициент значим\n"
     ]
    }
   ],
   "execution_count": 8
  },
  {
   "metadata": {},
   "cell_type": "markdown",
   "source": [
    "## Рубрика <span style=\"color: crimson;\">Цитатник из книг и Шиловской Н. А.</span>\n",
    "![](./memes/q1.png) \\\n",
    "![](./memes/q2.png) \\\n",
    "![](./memes/q3.png) \\\n",
    "![](./memes/q4.png) \\\n",
    "![](./memes/q5.png) \\\n",
    "![](./memes/q6.png) \\\n",
    "![](./memes/q7.png) \n"
   ],
   "id": "a569f08bcc80a4c2"
  },
  {
   "metadata": {},
   "cell_type": "markdown",
   "source": [
    "### Проверим остатки на нормальность\n",
    "$H_0$: остатки нормально распределены.\n",
    "\n",
    "$H_1$: остатки не распределены нормально."
   ],
   "id": "54bf85df52e266a0"
  },
  {
   "metadata": {},
   "cell_type": "markdown",
   "source": "![](https://github.com/ArtyomFuzis/CompMathLab4/blob/master/imgs/soviet/validate/4.jpg?raw=true)",
   "id": "962a90d20dd525b6"
  },
  {
   "metadata": {
    "ExecuteTime": {
     "end_time": "2025-05-25T18:52:08.687573Z",
     "start_time": "2025-05-25T18:52:08.652774Z"
    }
   },
   "cell_type": "code",
   "source": [
    "residuals = model.resid\n",
    "\n",
    "residuals_normalized = (residuals - np.mean(residuals)) / np.std(residuals)\n",
    "\n",
    "shapiro_test = stats.shapiro(residuals)\n",
    "ks_test = stats.kstest(residuals_normalized, 'norm')\n",
    "\n",
    "print(\"Тест Шапиро-Уилка: p-value =\", f\"{shapiro_test.pvalue:.4f}\")\n",
    "print(\"Тест Колмогорова-Смирнова: p-value =\", f\"{ks_test.pvalue:.4f}\")\n",
    "\n",
    "if shapiro_test.pvalue > 0.05 and ks_test.pvalue > 0.05:\n",
    "    print(\"\\n Вывод: Не отвергаем гипотезу H0, остатки нормально распределены\")\n",
    "else:\n",
    "    print(\"\\n Вывод: Отвергаем гипотезу H0, остатки не распределены нормально \")"
   ],
   "id": "e6043369878fe538",
   "outputs": [
    {
     "name": "stdout",
     "output_type": "stream",
     "text": [
      "Тест Шапиро-Уилка: p-value = 0.0000\n",
      "Тест Колмогорова-Смирнова: p-value = 0.0000\n",
      "\n",
      " Вывод: Отвергаем гипотезу H0, остатки не распределены нормально \n"
     ]
    }
   ],
   "execution_count": 10
  },
  {
   "metadata": {},
   "cell_type": "markdown",
   "source": [
    "## Рубрика <span style=\"color: crimson;\">MEMES</span>\n",
    "![](https://github.com/ArtyomFuzis/CompMathLab4/blob/master/imgs/soviet/switch/4.jpg?raw=true) \\\n",
    "![](./memes/2.jpg) \\\n",
    "![](./memes/3.jpg) \\\n",
    "![](./memes/4.jpg) \\\n",
    "![](./memes/5.jpg) \\\n",
    "![](./memes/6.jpg)"
   ],
   "id": "799a8a90b5f0458c"
  },
  {
   "metadata": {},
   "cell_type": "markdown",
   "source": "## Задание 2",
   "id": "c0f6721ab920bf2f"
  },
  {
   "metadata": {},
   "cell_type": "markdown",
   "source": [
    "Проверить гипотезу о равенстве средних ёмкостей аккумулятора на каждом уровне фактора\n",
    "\n",
    "- Фактор — ценовая категория (`price_range`)\n",
    "\n",
    "- Зависимая переменная — ёмкость аккумулятора (`battery_power`)"
   ],
   "id": "df2e5fc6b89fdb3b"
  },
  {
   "metadata": {},
   "cell_type": "markdown",
   "source": "![](https://github.com/ArtyomFuzis/CompMathLab4/blob/master/imgs/soviet/wait/%D0%94%D0%B8%D0%BE-%D0%B8-%D0%B6%D0%B8%D0%B7%D0%BD%D0%B5%D0%BD%D0%BD%D1%8B%D0%B5-%D0%BA%D0%BE%D0%BB%D0%BB%D0%B8%D0%B7%D0%B8%D0%B8-JoJo's-Bizarre-Adventure-Anime-5639839.jpeg?raw=true)",
   "id": "2c05f7867608deb"
  },
  {
   "metadata": {},
   "cell_type": "markdown",
   "source": [
    "### Сформулируем гипотезы\n",
    "- $ H_0 $: средние значения во всех группах равны\n",
    "\n",
    "  $$\n",
    "  \\mu_1 = \\mu_2 = \\cdots = \\mu_k\n",
    "  $$\n",
    "\n",
    "- $ H_1 $: хотя бы одна пара средних отличается\n",
    "\n",
    "  $$\n",
    "  \\exists\\, i,j: \\mu_i \\ne \\mu_j\n",
    "  $$\n"
   ],
   "id": "c1317367475310c5"
  },
  {
   "metadata": {
    "ExecuteTime": {
     "end_time": "2025-05-25T18:52:11.515640Z",
     "start_time": "2025-05-25T18:52:08.876765Z"
    }
   },
   "cell_type": "code",
   "source": [
    "url='https://drive.google.com/file/d/1O4rFr9xg9aFmkjx4-hl_XOc5O9q65_EW/view'\n",
    "url='https://drive.google.com/uc?id=' + url.split('/')[-2]\n",
    "df = pd.read_csv(url)\n",
    "\n",
    "df = df[['price_range', 'battery_power']].dropna()\n",
    "\n",
    "groups = [group['battery_power'].values for name, group in df.groupby('price_range')]\n",
    "\n",
    "f_stat, p_value = stats.f_oneway(*groups)\n",
    "\n",
    "print(f\"F = {f_stat:.4f}, p = {p_value:.5f}\")\n",
    "if p_value < 0.05:\n",
    "    print(\"Вывод: H0 отвергается — есть статистически значимые различия между группами.\")\n",
    "else:\n",
    "    print(\"Вывод: H0 не отвергается — различия между группами не подтверждены.\")"
   ],
   "id": "df59e372eb459bca",
   "outputs": [
    {
     "name": "stdout",
     "output_type": "stream",
     "text": [
      "F = 31.5982, p = 0.00000\n",
      "Вывод: H0 отвергается — есть статистически значимые различия между группами.\n"
     ]
    }
   ],
   "execution_count": 13
  },
  {
   "metadata": {},
   "cell_type": "markdown",
   "source": "![](https://github.com/ArtyomFuzis/CompMathLab4/blob/master/imgs/soviet/report/1.jpg?raw=true)",
   "id": "1e31402ab873d35c"
  },
  {
   "metadata": {},
   "cell_type": "markdown",
   "source": "![](memes/партия.jpg)",
   "id": "65f504346a5a58b1"
  },
  {
   "metadata": {},
   "cell_type": "markdown",
   "source": [
    "## Рубрика <span style=\"color: crimson;\">SECRET</span>\n",
    "![](./memes/m1.jpg) \\\n",
    "![](./memes/m2.jpg) \\\n",
    "![](./memes/m3.jpg) \\\n",
    "![](./memes/m4.jpg) \\\n",
    "![](./memes/m5.jpg) \\\n",
    "![](./memes/m6.jpg) \\\n",
    "![](./memes/m7.jpg) \\\n",
    "![](./memes/m8.jpg) \\\n",
    "![](./memes/m9.jpg) \\"
   ],
   "id": "bb3fdb836af28237"
  },
  {
   "metadata": {},
   "cell_type": "markdown",
   "source": "## Рубрика <span style=\"color: crimson;\">TOP SECRET</span>",
   "id": "9d5a0312d6cf8200"
  },
  {
   "metadata": {},
   "cell_type": "markdown",
   "source": "<span style=\"color: crimson;\">Ошибка, ваш уровень доступа недостаточен для такого уровня артов!</span> Купите подписку на полную версию лабы по номеру: <span style=\"color: lime;\">8-800-555-35-35</span> всего за <span style=\"color: gold;\">300$</span>",
   "id": "ba9d4050f0bdbf0b"
  },
  {
   "metadata": {},
   "cell_type": "markdown",
   "source": "Авторы этого: <a href=\"https://t.me/artyomnazin\">@artyomnazin</a> (ему точно никакая проверка на нормальность не поможет), <a href=\"https://t.me/pallo_hiiri\">@pallo_hiiri</a> (у нее есть справка, что она не псих и не наркоман. Верьте ей)",
   "id": "3a04f97cdaf7e945"
  }
 ],
 "metadata": {
  "kernelspec": {
   "display_name": "Python 3",
   "language": "python",
   "name": "python3"
  },
  "language_info": {
   "codemirror_mode": {
    "name": "ipython",
    "version": 2
   },
   "file_extension": ".py",
   "mimetype": "text/x-python",
   "name": "python",
   "nbconvert_exporter": "python",
   "pygments_lexer": "ipython2",
   "version": "2.7.6"
  }
 },
 "nbformat": 4,
 "nbformat_minor": 5
}
